{
  "nbformat": 4,
  "nbformat_minor": 0,
  "metadata": {
    "colab": {
      "provenance": []
    },
    "kernelspec": {
      "name": "python3",
      "display_name": "Python 3"
    },
    "language_info": {
      "name": "python"
    }
  },
  "cells": [
    {
      "cell_type": "code",
      "execution_count": null,
      "metadata": {
        "id": "rgBTUTk6F0aB"
      },
      "outputs": [],
      "source": [
        "import pandas as pd\n",
        "from sklearn.model_selection import train_test_split\n",
        "from sklearn.preprocessing import LabelEncoder, StandardScaler\n",
        "from sklearn.ensemble import RandomForestClassifier\n",
        "from sklearn.metrics import accuracy_score, classification_report"
      ]
    },
    {
      "cell_type": "code",
      "source": [
        "data = pd.read_excel('/content/Online Retail.xlsx')"
      ],
      "metadata": {
        "id": "fJRx7K30H95X"
      },
      "execution_count": null,
      "outputs": []
    },
    {
      "cell_type": "code",
      "source": [
        "data = data.dropna(subset=['CustomerID'])\n",
        "data = data[['Quantity', 'UnitPrice', 'CustomerID', 'Country']]\n"
      ],
      "metadata": {
        "id": "UgeT_X6FIUhx"
      },
      "execution_count": null,
      "outputs": []
    },
    {
      "cell_type": "code",
      "source": [
        "data['HighQuantity'] = (data['Quantity'] > 10).astype(int)  # Target: Quantity > 10\n",
        "features = data.drop(columns=['HighQuantity'])\n",
        "target = 'HighQuantity'"
      ],
      "metadata": {
        "id": "UKgU4A9EIZOw"
      },
      "execution_count": null,
      "outputs": []
    },
    {
      "cell_type": "code",
      "source": [
        "categorical_columns = features.select_dtypes(include=['object']).columns\n",
        "label_encoders = {}\n",
        "for col in categorical_columns:\n",
        "    label_encoders[col] = LabelEncoder()\n",
        "    features[col] = label_encoders[col].fit_transform(features[col])\n"
      ],
      "metadata": {
        "id": "UeNAg1piIcao"
      },
      "execution_count": null,
      "outputs": []
    },
    {
      "cell_type": "code",
      "source": [
        "X_train, X_test, y_train, y_test = train_test_split(features, data[target], test_size=0.2, random_state=42)"
      ],
      "metadata": {
        "id": "ndNcTJvEIe3v"
      },
      "execution_count": null,
      "outputs": []
    },
    {
      "cell_type": "code",
      "source": [
        "scaler = StandardScaler()\n",
        "X_train = scaler.fit_transform(X_train)\n",
        "X_test = scaler.transform(X_test)"
      ],
      "metadata": {
        "id": "t-cj1QN2IiD4"
      },
      "execution_count": null,
      "outputs": []
    },
    {
      "cell_type": "code",
      "source": [
        "rf = RandomForestClassifier(random_state=42)\n",
        "rf.fit(X_train, y_train)\n",
        "rf_predictions = rf.predict(X_test)\n"
      ],
      "metadata": {
        "id": "wS7meMjSI67I"
      },
      "execution_count": null,
      "outputs": []
    },
    {
      "cell_type": "code",
      "source": [
        "print(\"Random Forest Accuracy:\", accuracy_score(y_test, rf_predictions))\n",
        "print(classification_report(y_test, rf_predictions))\n"
      ],
      "metadata": {
        "id": "iU6Ah0ZFI_0w",
        "outputId": "ceb8da01-145e-4036-d000-2b757ce67ed4",
        "colab": {
          "base_uri": "https://localhost:8080/"
        }
      },
      "execution_count": null,
      "outputs": [
        {
          "output_type": "stream",
          "name": "stdout",
          "text": [
            "Random Forest Accuracy: 1.0\n",
            "              precision    recall  f1-score   support\n",
            "\n",
            "           0       1.00      1.00      1.00     56047\n",
            "           1       1.00      1.00      1.00     25319\n",
            "\n",
            "    accuracy                           1.00     81366\n",
            "   macro avg       1.00      1.00      1.00     81366\n",
            "weighted avg       1.00      1.00      1.00     81366\n",
            "\n"
          ]
        }
      ]
    }
  ]
}