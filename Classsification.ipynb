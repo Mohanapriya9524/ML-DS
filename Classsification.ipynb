{
  "nbformat": 4,
  "nbformat_minor": 0,
  "metadata": {
    "colab": {
      "provenance": []
    },
    "kernelspec": {
      "name": "python3",
      "display_name": "Python 3"
    },
    "language_info": {
      "name": "python"
    }
  },
  "cells": [
    {
      "cell_type": "code",
      "execution_count": null,
      "metadata": {
        "id": "e2AFaCv6Ao3C"
      },
      "outputs": [],
      "source": [
        "import pandas as pd\n",
        "from sklearn.model_selection import train_test_split\n",
        "from sklearn.preprocessing import LabelEncoder, StandardScaler\n",
        "from sklearn.metrics import accuracy_score, classification_report\n",
        "from sklearn.linear_model import LogisticRegression\n",
        "from sklearn.tree import DecisionTreeClassifier\n",
        "from sklearn.ensemble import RandomForestClassifier"
      ]
    },
    {
      "cell_type": "code",
      "source": [
        "data = pd.read_csv('/content/shopping_trends.csv')"
      ],
      "metadata": {
        "id": "xv2W9TeMBL2o"
      },
      "execution_count": null,
      "outputs": []
    },
    {
      "cell_type": "code",
      "source": [
        "target = 'Subscription Status'\n",
        "features = data.drop(columns=['Customer ID', target])\n"
      ],
      "metadata": {
        "id": "zOD8s9ARBQ54"
      },
      "execution_count": null,
      "outputs": []
    },
    {
      "cell_type": "code",
      "source": [
        "categorical_columns = features.select_dtypes(include=['object']).columns\n",
        "label_encoders = {}\n",
        "for col in categorical_columns:\n",
        "    label_encoders[col] = LabelEncoder()\n",
        "    features[col] = label_encoders[col].fit_transform(features[col])\n"
      ],
      "metadata": {
        "id": "lbj9fYGNBUdv"
      },
      "execution_count": null,
      "outputs": []
    },
    {
      "cell_type": "code",
      "source": [
        "target_encoder = LabelEncoder()\n",
        "data[target] = target_encoder.fit_transform(data[target])\n"
      ],
      "metadata": {
        "id": "O9OsbR7QBXJZ"
      },
      "execution_count": null,
      "outputs": []
    },
    {
      "cell_type": "code",
      "source": [
        "X_train, X_test, y_train, y_test = train_test_split(features, data[target], test_size=0.2, random_state=42)"
      ],
      "metadata": {
        "id": "R_XNbp1oBabQ"
      },
      "execution_count": null,
      "outputs": []
    },
    {
      "cell_type": "code",
      "source": [
        "scaler = StandardScaler()\n",
        "X_train = scaler.fit_transform(X_train)\n",
        "X_test = scaler.transform(X_test)"
      ],
      "metadata": {
        "id": "20iRRR0TBc8n"
      },
      "execution_count": null,
      "outputs": []
    },
    {
      "cell_type": "code",
      "source": [
        "lr = LogisticRegression()\n",
        "lr.fit(X_train, y_train)\n",
        "lr_predictions = lr.predict(X_test)\n",
        "print(\"Logistic Regression Accuracy:\", accuracy_score(y_test, lr_predictions))\n",
        "print(classification_report(y_test, lr_predictions))\n"
      ],
      "metadata": {
        "colab": {
          "base_uri": "https://localhost:8080/"
        },
        "id": "ZcmI3QWBBfPY",
        "outputId": "d12f0875-1965-4b4e-ef3d-d4ee6f4fb285"
      },
      "execution_count": null,
      "outputs": [
        {
          "output_type": "stream",
          "name": "stdout",
          "text": [
            "Logistic Regression Accuracy: 0.8256410256410256\n",
            "              precision    recall  f1-score   support\n",
            "\n",
            "           0       1.00      0.76      0.86       558\n",
            "           1       0.62      1.00      0.77       222\n",
            "\n",
            "    accuracy                           0.83       780\n",
            "   macro avg       0.81      0.88      0.81       780\n",
            "weighted avg       0.89      0.83      0.83       780\n",
            "\n"
          ]
        }
      ]
    },
    {
      "cell_type": "code",
      "source": [
        "dt = DecisionTreeClassifier(random_state=42)\n",
        "dt.fit(X_train, y_train)\n",
        "dt_predictions = dt.predict(X_test)\n",
        "print(\"Decision Tree Accuracy:\", accuracy_score(y_test, dt_predictions))\n",
        "print(classification_report(y_test, dt_predictions))\n"
      ],
      "metadata": {
        "id": "uWHLTk2lBmEY",
        "outputId": "c73f8d50-90a7-4c13-9733-2cc09e5aabb3",
        "colab": {
          "base_uri": "https://localhost:8080/"
        }
      },
      "execution_count": null,
      "outputs": [
        {
          "output_type": "stream",
          "name": "stdout",
          "text": [
            "Decision Tree Accuracy: 0.7935897435897435\n",
            "              precision    recall  f1-score   support\n",
            "\n",
            "           0       0.87      0.84      0.85       558\n",
            "           1       0.63      0.67      0.65       222\n",
            "\n",
            "    accuracy                           0.79       780\n",
            "   macro avg       0.75      0.76      0.75       780\n",
            "weighted avg       0.80      0.79      0.80       780\n",
            "\n"
          ]
        }
      ]
    },
    {
      "cell_type": "code",
      "source": [
        "rf = RandomForestClassifier(random_state=42)\n",
        "rf.fit(X_train, y_train)\n",
        "rf_predictions = rf.predict(X_test)\n",
        "print(\"Random Forest Accuracy:\", accuracy_score(y_test, rf_predictions))\n",
        "print(classification_report(y_test, rf_predictions))\n"
      ],
      "metadata": {
        "id": "ADXBySgzBo-5",
        "outputId": "668d4a87-a0a9-463e-b0dc-a363cb7136a9",
        "colab": {
          "base_uri": "https://localhost:8080/"
        }
      },
      "execution_count": null,
      "outputs": [
        {
          "output_type": "stream",
          "name": "stdout",
          "text": [
            "Random Forest Accuracy: 0.8166666666666667\n",
            "              precision    recall  f1-score   support\n",
            "\n",
            "           0       0.95      0.79      0.86       558\n",
            "           1       0.63      0.89      0.73       222\n",
            "\n",
            "    accuracy                           0.82       780\n",
            "   macro avg       0.79      0.84      0.80       780\n",
            "weighted avg       0.85      0.82      0.82       780\n",
            "\n"
          ]
        }
      ]
    }
  ]
}