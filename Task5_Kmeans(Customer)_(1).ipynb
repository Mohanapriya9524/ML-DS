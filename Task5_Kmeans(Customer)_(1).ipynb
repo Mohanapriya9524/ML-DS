{
  "cells": [
    {
      "cell_type": "code",
      "execution_count": null,
      "id": "cb88a3c7-4aea-40af-8603-735dcf9663d0",
      "metadata": {
        "id": "cb88a3c7-4aea-40af-8603-735dcf9663d0"
      },
      "outputs": [],
      "source": [
        "import pandas as pd\n",
        "import numpy as np\n",
        "import matplotlib.pyplot as plt\n",
        "import seaborn as sns"
      ]
    },
    {
      "cell_type": "code",
      "execution_count": null,
      "id": "9418911a-bb0e-47fb-8891-1f0d65d7ce07",
      "metadata": {
        "id": "9418911a-bb0e-47fb-8891-1f0d65d7ce07",
        "outputId": "531d761c-6d2c-409f-fe96-d982546d331d"
      },
      "outputs": [
        {
          "data": {
            "text/html": [
              "<div>\n",
              "<style scoped>\n",
              "    .dataframe tbody tr th:only-of-type {\n",
              "        vertical-align: middle;\n",
              "    }\n",
              "\n",
              "    .dataframe tbody tr th {\n",
              "        vertical-align: top;\n",
              "    }\n",
              "\n",
              "    .dataframe thead th {\n",
              "        text-align: right;\n",
              "    }\n",
              "</style>\n",
              "<table border=\"1\" class=\"dataframe\">\n",
              "  <thead>\n",
              "    <tr style=\"text-align: right;\">\n",
              "      <th></th>\n",
              "      <th>InvoiceNo</th>\n",
              "      <th>StockCode</th>\n",
              "      <th>Description</th>\n",
              "      <th>Quantity</th>\n",
              "      <th>InvoiceDate</th>\n",
              "      <th>UnitPrice</th>\n",
              "      <th>CustomerID</th>\n",
              "      <th>Country</th>\n",
              "    </tr>\n",
              "  </thead>\n",
              "  <tbody>\n",
              "    <tr>\n",
              "      <th>0</th>\n",
              "      <td>536365</td>\n",
              "      <td>85123A</td>\n",
              "      <td>WHITE HANGING HEART T-LIGHT HOLDER</td>\n",
              "      <td>6</td>\n",
              "      <td>2010-12-01 08:26:00</td>\n",
              "      <td>2.55</td>\n",
              "      <td>17850.0</td>\n",
              "      <td>United Kingdom</td>\n",
              "    </tr>\n",
              "    <tr>\n",
              "      <th>1</th>\n",
              "      <td>536365</td>\n",
              "      <td>71053</td>\n",
              "      <td>WHITE METAL LANTERN</td>\n",
              "      <td>6</td>\n",
              "      <td>2010-12-01 08:26:00</td>\n",
              "      <td>3.39</td>\n",
              "      <td>17850.0</td>\n",
              "      <td>United Kingdom</td>\n",
              "    </tr>\n",
              "    <tr>\n",
              "      <th>2</th>\n",
              "      <td>536365</td>\n",
              "      <td>84406B</td>\n",
              "      <td>CREAM CUPID HEARTS COAT HANGER</td>\n",
              "      <td>8</td>\n",
              "      <td>2010-12-01 08:26:00</td>\n",
              "      <td>2.75</td>\n",
              "      <td>17850.0</td>\n",
              "      <td>United Kingdom</td>\n",
              "    </tr>\n",
              "    <tr>\n",
              "      <th>3</th>\n",
              "      <td>536365</td>\n",
              "      <td>84029G</td>\n",
              "      <td>KNITTED UNION FLAG HOT WATER BOTTLE</td>\n",
              "      <td>6</td>\n",
              "      <td>2010-12-01 08:26:00</td>\n",
              "      <td>3.39</td>\n",
              "      <td>17850.0</td>\n",
              "      <td>United Kingdom</td>\n",
              "    </tr>\n",
              "    <tr>\n",
              "      <th>4</th>\n",
              "      <td>536365</td>\n",
              "      <td>84029E</td>\n",
              "      <td>RED WOOLLY HOTTIE WHITE HEART.</td>\n",
              "      <td>6</td>\n",
              "      <td>2010-12-01 08:26:00</td>\n",
              "      <td>3.39</td>\n",
              "      <td>17850.0</td>\n",
              "      <td>United Kingdom</td>\n",
              "    </tr>\n",
              "  </tbody>\n",
              "</table>\n",
              "</div>"
            ],
            "text/plain": [
              "  InvoiceNo StockCode                          Description  Quantity  \\\n",
              "0    536365    85123A   WHITE HANGING HEART T-LIGHT HOLDER         6   \n",
              "1    536365     71053                  WHITE METAL LANTERN         6   \n",
              "2    536365    84406B       CREAM CUPID HEARTS COAT HANGER         8   \n",
              "3    536365    84029G  KNITTED UNION FLAG HOT WATER BOTTLE         6   \n",
              "4    536365    84029E       RED WOOLLY HOTTIE WHITE HEART.         6   \n",
              "\n",
              "          InvoiceDate  UnitPrice  CustomerID         Country  \n",
              "0 2010-12-01 08:26:00       2.55     17850.0  United Kingdom  \n",
              "1 2010-12-01 08:26:00       3.39     17850.0  United Kingdom  \n",
              "2 2010-12-01 08:26:00       2.75     17850.0  United Kingdom  \n",
              "3 2010-12-01 08:26:00       3.39     17850.0  United Kingdom  \n",
              "4 2010-12-01 08:26:00       3.39     17850.0  United Kingdom  "
            ]
          },
          "execution_count": 3,
          "metadata": {},
          "output_type": "execute_result"
        }
      ],
      "source": [
        "# read the data\n",
        "df = pd.read_excel('Online Retail.xlsx')\n",
        "\n",
        "# print the first five rows of the data\n",
        "df.head()"
      ]
    },
    {
      "cell_type": "code",
      "execution_count": null,
      "id": "4f223994-a3a8-4d2b-b3f6-2f54ceb2b85e",
      "metadata": {
        "id": "4f223994-a3a8-4d2b-b3f6-2f54ceb2b85e",
        "outputId": "ee25095c-b8b4-4e2c-82fe-7d6f4494ced7"
      },
      "outputs": [
        {
          "name": "stdout",
          "output_type": "stream",
          "text": [
            "<class 'pandas.core.frame.DataFrame'>\n",
            "RangeIndex: 541909 entries, 0 to 541908\n",
            "Data columns (total 8 columns):\n",
            " #   Column       Non-Null Count   Dtype         \n",
            "---  ------       --------------   -----         \n",
            " 0   InvoiceNo    541909 non-null  object        \n",
            " 1   StockCode    541909 non-null  object        \n",
            " 2   Description  540455 non-null  object        \n",
            " 3   Quantity     541909 non-null  int64         \n",
            " 4   InvoiceDate  541909 non-null  datetime64[ns]\n",
            " 5   UnitPrice    541909 non-null  float64       \n",
            " 6   CustomerID   406829 non-null  float64       \n",
            " 7   Country      541909 non-null  object        \n",
            "dtypes: datetime64[ns](1), float64(2), int64(1), object(4)\n",
            "memory usage: 33.1+ MB\n"
          ]
        }
      ],
      "source": [
        "df.info()"
      ]
    },
    {
      "cell_type": "code",
      "execution_count": null,
      "id": "babe359b-1b61-484d-b379-e39c03aa3c1f",
      "metadata": {
        "id": "babe359b-1b61-484d-b379-e39c03aa3c1f",
        "outputId": "48216034-9bec-4be0-d850-becb155e0aea"
      },
      "outputs": [
        {
          "name": "stdout",
          "output_type": "stream",
          "text": [
            "(541909, 8)\n"
          ]
        }
      ],
      "source": [
        "print(df.shape)"
      ]
    },
    {
      "cell_type": "code",
      "execution_count": null,
      "id": "1e409d78-4054-4663-aa29-a71c99a1882e",
      "metadata": {
        "id": "1e409d78-4054-4663-aa29-a71c99a1882e",
        "outputId": "31e8b582-537d-4570-b3e1-4c16fdda453e"
      },
      "outputs": [
        {
          "data": {
            "image/png": "[encoded data removed]",
            "text/plain": [
              "<Figure size 640x480 with 1 Axes>"
            ]
          },
          "metadata": {},
          "output_type": "display_data"
        }
      ],
      "source": [
        "# use 'countplot' to plot barplot for orders\n",
        "sns.countplot(data = df, x = 'InvoiceNo')\n",
        "\n",
        "# set the axes and plot labels\n",
        "# set the font size using 'fontsize'\n",
        "plt.title('Distribution of Orders', fontsize = 15)\n",
        "plt.xlabel('InvoiceNo', fontsize = 15)\n",
        "plt.ylabel('UnitPrice', fontsize = 15)\n",
        "\n",
        "plt.show()"
      ]
    },
    {
      "cell_type": "code",
      "execution_count": null,
      "id": "ace2021b-e637-46d4-8bda-59a434071669",
      "metadata": {
        "id": "ace2021b-e637-46d4-8bda-59a434071669"
      },
      "outputs": [],
      "source": [
        "# Drop rows with missing values in important columns (e.g., 'CustomerID', 'Quantity', 'UnitPrice')\n",
        "df.dropna(subset=['CustomerID', 'Quantity', 'UnitPrice'], inplace=True)\n",
        "\n",
        "# Remove negative quantities or prices (optional)\n",
        "df = df[df['Quantity'] > 0]\n",
        "df = df[df['UnitPrice'] > 0]\n",
        "\n",
        "# Create a 'TotalSpend' feature: Quantity * UnitPrice\n",
        "df['TotalSpend'] = df['Quantity'] * df['UnitPrice']"
      ]
    },
    {
      "cell_type": "code",
      "execution_count": null,
      "id": "cb9a0229-3f06-4c60-96ba-1abbb435efa5",
      "metadata": {
        "id": "cb9a0229-3f06-4c60-96ba-1abbb435efa5"
      },
      "outputs": [],
      "source": [
        "# Calculate Recency (How recent was the last purchase)\n",
        "df['InvoiceDate'] = pd.to_datetime(df['InvoiceDate'])\n",
        "last_purchase_date = df['InvoiceDate'].max()\n",
        "\n",
        "df['Recency'] = (last_purchase_date - df['InvoiceDate']).dt.days\n",
        "\n",
        "# Frequency (how often the customer purchases)\n",
        "frequency = df.groupby('CustomerID')['InvoiceNo'].nunique()\n",
        "\n",
        "# Monetary (how much the customer spends)\n",
        "monetary = df.groupby('CustomerID')['TotalSpend'].sum()\n",
        "\n",
        "# Combine into a new DataFrame\n",
        "rfm_df = pd.DataFrame({'Recency': df.groupby('CustomerID')['Recency'].min(),\n",
        "                       'Frequency': frequency,\n",
        "                       'Monetary': monetary})"
      ]
    },
    {
      "cell_type": "code",
      "execution_count": null,
      "id": "0ab02abe-94df-4dc9-b6e8-7557f23173df",
      "metadata": {
        "id": "0ab02abe-94df-4dc9-b6e8-7557f23173df",
        "outputId": "58fff390-0f3d-4959-9e77-d9c07ed51ded"
      },
      "outputs": [
        {
          "ename": "NameError",
          "evalue": "name 'StandardScaler' is not defined",
          "output_type": "error",
          "traceback": [
            "\u001b[1;31m---------------------------------------------------------------------------\u001b[0m",
            "\u001b[1;31mNameError\u001b[0m                                 Traceback (most recent call last)",
            "Cell \u001b[1;32mIn[17], line 1\u001b[0m\n\u001b[1;32m----> 1\u001b[0m scaler \u001b[38;5;241m=\u001b[39m StandardScaler()\n\u001b[0;32m      2\u001b[0m scaled_data \u001b[38;5;241m=\u001b[39m scaler\u001b[38;5;241m.\u001b[39mfit_transform(rfm_df)\n",
            "\u001b[1;31mNameError\u001b[0m: name 'StandardScaler' is not defined"
          ]
        }
      ],
      "source": [
        "scaler = StandardScaler()\n",
        "scaled_data = scaler.fit_transform(rfm_df)"
      ]
    },
    {
      "cell_type": "code",
      "execution_count": null,
      "id": "0ac9a4c3-b1d2-4c75-9cbb-99a3a5686f8a",
      "metadata": {
        "id": "0ac9a4c3-b1d2-4c75-9cbb-99a3a5686f8a"
      },
      "outputs": [],
      "source": [
        "# Elbow Method to find optimal clusters\n",
        "distortions = []\n",
        "for k in range(1, 11):  # Try different cluster sizes (1-10)\n",
        "    kmeans = KMeans(n_clusters=k, random_state=42)\n",
        "    kmeans.fit(scaled_data)\n",
        "    distortions.append(kmeans.inertia_)\n",
        "\n",
        "# Plot the Elbow Graph\n",
        "plt.plot(range(1, 11), distortions, marker='o')\n",
        "plt.title('Elbow Method for Optimal K')\n",
        "plt.xlabel('Number of Clusters')\n",
        "plt.ylabel('Distortion (Inertia)')\n",
        "plt.show()"
      ]
    },
    {
      "cell_type": "code",
      "execution_count": null,
      "id": "9bf9d6a2-6421-42f7-8bb4-e97c9333d5d7",
      "metadata": {
        "id": "9bf9d6a2-6421-42f7-8bb4-e97c9333d5d7"
      },
      "outputs": [],
      "source": [
        "# Apply K-means clustering\n",
        "optimal_k = 4  # Set the number of clusters based on the elbow plot\n",
        "kmeans = KMeans(n_clusters=optimal_k, random_state=42)\n",
        "rfm_df['Cluster'] = kmeans.fit_predict(scaled_data)\n",
        "\n",
        "# Show the result with cluster labels\n",
        "print(rfm_df.head())"
      ]
    },
    {
      "cell_type": "code",
      "execution_count": null,
      "id": "11a7097a-cf51-4cac-aa16-d4b7c130d8f4",
      "metadata": {
        "id": "11a7097a-cf51-4cac-aa16-d4b7c130d8f4"
      },
      "outputs": [],
      "source": [
        "# PCA for dimensionality reduction to 2D\n",
        "from sklearn.decomposition import PCA\n",
        "pca = PCA(n_components=2)\n",
        "pca_components = pca.fit_transform(scaled_data)\n",
        "\n",
        "# Plot the clusters\n",
        "plt.figure(figsize=(8, 6))\n",
        "plt.scatter(pca_components[:, 0], pca_components[:, 1], c=rfm_df['Cluster'], cmap='viridis')\n",
        "plt.title('Customer Segmentation')\n",
        "plt.xlabel('PCA Component 1')\n",
        "plt.ylabel('PCA Component 2')\n",
        "plt.colorbar(label='Cluster')\n",
        "plt.show()"
      ]
    }
  ],
  "metadata": {
    "kernelspec": {
      "display_name": "Python 3 (ipykernel)",
      "language": "python",
      "name": "python3"
    },
    "language_info": {
      "codemirror_mode": {
        "name": "ipython",
        "version": 3
      },
      "file_extension": ".py",
      "mimetype": "text/x-python",
      "name": "python",
      "nbconvert_exporter": "python",
      "pygments_lexer": "ipython3",
      "version": "3.12.4"
    },
    "colab": {
      "provenance": []
    }
  },
  "nbformat": 4,
  "nbformat_minor": 5
}