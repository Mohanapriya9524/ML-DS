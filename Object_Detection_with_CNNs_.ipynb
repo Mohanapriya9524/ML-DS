{
  "nbformat": 4,
  "nbformat_minor": 0,
  "metadata": {
    "colab": {
      "provenance": []
    },
    "kernelspec": {
      "name": "python3",
      "display_name": "Python 3"
    },
    "language_info": {
      "name": "python"
    }
  },
  "cells": [
    {
      "cell_type": "code",
      "execution_count": 1,
      "metadata": {
        "id": "K-PiczmqWIv2"
      },
      "outputs": [],
      "source": [
        "import cv2\n",
        "import numpy as np\n",
        "import tensorflow as tf\n",
        "from tensorflow.keras.models import load_model\n"
      ]
    },
    {
      "cell_type": "code",
      "source": [
        "# Load a pre-trained model (e.g., SSD MobileNet from TensorFlow Hub)\n",
        "model = tf.keras.applications.MobileNetV2(weights='imagenet')\n"
      ],
      "metadata": {
        "colab": {
          "base_uri": "https://localhost:8080/"
        },
        "id": "tIMH8_KkWRgD",
        "outputId": "7f99b99e-9f3b-411c-dadd-a8544d10f595"
      },
      "execution_count": 2,
      "outputs": [
        {
          "output_type": "stream",
          "name": "stdout",
          "text": [
            "Downloading data from https://storage.googleapis.com/tensorflow/keras-applications/mobilenet_v2/mobilenet_v2_weights_tf_dim_ordering_tf_kernels_1.0_224.h5\n",
            "\u001b[1m14536120/14536120\u001b[0m \u001b[32m━━━━━━━━━━━━━━━━━━━━\u001b[0m\u001b[37m\u001b[0m \u001b[1m0s\u001b[0m 0us/step\n"
          ]
        }
      ]
    },
    {
      "cell_type": "code",
      "source": [
        "video_capture = cv2.VideoCapture('/content/video_yolov4.sh')\n"
      ],
      "metadata": {
        "id": "Uyt5pLx7WW2Q"
      },
      "execution_count": 3,
      "outputs": []
    },
    {
      "cell_type": "code",
      "source": [
        "# Define output video writer\n",
        "output_path = 'output_video.avi'\n",
        "frame_width = int(video_capture.get(cv2.CAP_PROP_FRAME_WIDTH))\n",
        "frame_height = int(video_capture.get(cv2.CAP_PROP_FRAME_HEIGHT))\n",
        "fps = int(video_capture.get(cv2.CAP_PROP_FPS))\n",
        "output_writer = cv2.VideoWriter(output_path, cv2.VideoWriter_fourcc(*'XVID'), fps, (frame_width, frame_height))\n"
      ],
      "metadata": {
        "id": "WFIGnHm1W1op"
      },
      "execution_count": 4,
      "outputs": []
    },
    {
      "cell_type": "code",
      "source": [
        "# Process the video frame by frame\n",
        "while video_capture.isOpened():\n",
        "    ret, frame = video_capture.read()\n",
        "    if not ret:\n",
        "        break\n",
        "\n",
        "    # Resize the frame to fit the model's input requirements\n",
        "    input_frame = cv2.resize(frame, (224, 224))\n",
        "    input_frame = np.expand_dims(input_frame, axis=0)\n",
        "    input_frame = tf.keras.applications.mobilenet_v2.preprocess_input(input_frame)\n",
        "\n",
        "    # Run inference\n",
        "    predictions = model.predict(input_frame)\n",
        "\n",
        "    # Decode and display predictions (example for classification)\n",
        "    decoded_predictions = tf.keras.applications.mobilenet_v2.decode_predictions(predictions, top=3)[0]\n",
        "    for i, (imagenet_id, label, score) in enumerate(decoded_predictions):\n",
        "        cv2.putText(frame, f\"{label}: {score:.2f}\", (10, 30 + i * 30), cv2.FONT_HERSHEY_SIMPLEX, 1, (0, 255, 0), 2)\n",
        "\n",
        "    # Write the processed frame to the output video\n",
        "    output_writer.write(frame)\n",
        "\n",
        "    # Display the frame\n",
        "    cv2.imshow('Object Detection', frame)\n",
        "    if cv2.waitKey(1) & 0xFF == ord('q'):\n",
        "        break"
      ],
      "metadata": {
        "id": "dsxMFacLW-La"
      },
      "execution_count": 5,
      "outputs": []
    },
    {
      "cell_type": "code",
      "source": [
        "# Release resources\n",
        "video_capture.release()\n",
        "output_writer.release()\n",
        "cv2.destroyAllWindows()"
      ],
      "metadata": {
        "id": "fcPssQCrXICZ"
      },
      "execution_count": 6,
      "outputs": []
    }
  ]
}